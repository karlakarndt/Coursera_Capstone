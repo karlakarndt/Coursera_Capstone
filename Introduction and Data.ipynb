{
 "cells": [
  {
   "cell_type": "markdown",
   "metadata": {},
   "source": [
    "# Capstone Project -- Where should we retire?\n",
    "\n",
    "## Introduction/Business Problem\n",
    "\n",
    "Even though retirement may be far into the future for many taking this class, it is not for some of us. In fact, it's right around the corner! In addition, I belong to an organization that helps seniors plan for these big decisions so know a lot of people that need help in their retirement location planning.\n",
    "\n",
    "There are many factors that affect when to retire such as financial and health. But, \"where to live\" is also a major decision.  Many choose to live their retirement years from their current residence. Some may become snow birds and live a few weeks or months in a warmer climate while others may travel to foreign destinations. \n",
    "\n",
    "\"Where to call 'home base'\" is the focus of this project. For those who desire to relocate from the city they've called \"home\" for many years, the decision can be daunting. Even cities that seem similar on the surface can lead to different lifestyles and entertainment opportunities.\n",
    "\n",
    "This project could be generalized to allow for other seniors to plan for their optimal retirement location, but for this project, I want to keep it personal to make it more realistic.  That is, I'm going to focus on my husband's and my hobbies and desires for a retirement location. We know we want to retire in Wisconsin, but we don't know where.\n",
    "\n",
    "I want to find some specifics to help us make our decision such as the following:\n",
    "\n",
    "- Fishing. There is a lot of available fishing, but we want to be able to fish for walleye. We also have a boat and need access to a public boat ramp.\n",
    "\n",
    "- State parks. We hike and camp a lot. I want to explore state parks in my retirement. \n",
    "\n",
    "Obviously, some of the information above many not be readily available. I will discover in the next part of the assignment on data if I can accomplish the above. If I cannot, I will choose to delve into other types of activities such as restaurants and shopping districts.\n"
   ]
  },
  {
   "cell_type": "markdown",
   "metadata": {},
   "source": [
    "## Data\n",
    "\n",
    "Finding data to manipulate is the key. I want to be able to merge the data so that I have one map with all of the information.\n",
    "\n",
    "Fishing: I found a fish map by type of fish on the DNR website. I was able to download the information I needed into a csv file and I stored it in github. The data included the lakes' latitude and longitude and if it had a boat landing. Basically, it had everything I needed right in one file!\n",
    "    - https://dnr.wi.gov/lakes/lakepages/Results.aspx?page=walleye\n",
    "    - walleye.csv -- The file on github that I created from the link above.\n",
    "\n",
    "State parks:  There are a couple different resources I have found that list the Wisconsin state parks and forests and has other information on them. From all of my searching, I'm likely going to need to combine some of them to get everything I want or go to multiple websites that these point to. There wasn't just one page that had everything I needed.\n",
    "    - https://en.wikipedia.org/wiki/List_of_Wisconsin_state_parks\n",
    "    - http://data-wi-dnr.opendata.arcgis.com/items/5341db923c4a4e93bab77629df544bf9\n",
    "    \n",
    "   \n",
    "    "
   ]
  },
  {
   "cell_type": "code",
   "execution_count": null,
   "metadata": {},
   "outputs": [],
   "source": []
  }
 ],
 "metadata": {
  "kernelspec": {
   "display_name": "Python 3",
   "language": "python",
   "name": "python3"
  },
  "language_info": {
   "codemirror_mode": {
    "name": "ipython",
    "version": 3
   },
   "file_extension": ".py",
   "mimetype": "text/x-python",
   "name": "python",
   "nbconvert_exporter": "python",
   "pygments_lexer": "ipython3",
   "version": "3.7.0"
  }
 },
 "nbformat": 4,
 "nbformat_minor": 2
}
