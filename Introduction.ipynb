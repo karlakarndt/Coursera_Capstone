{
 "cells": [
  {
   "cell_type": "markdown",
   "metadata": {},
   "source": [
    "# Capstone Project -- Where should we retire?\n",
    "\n",
    "## Introduction/Business Problem\n",
    "\n",
    "Even though retirement may be far into the future for many taking this class, it is not for some of us. In fact, it's right around the corner! In addition, I belong to an organization that helps seniors plan for these big decisions so know a lot of people that need help in their retirement location planning.\n",
    "\n",
    "There are many factors that affect when to retire such as financial and health. But, \"where to live\" is also a major decision.  Many choose to live their retirement years from their current residence. Some may become snow birds and live a few weeks or months in a warmer climate while others may travel to foreign destinations. \n",
    "\n",
    "\"Where to call 'home base'\" is the focus of this project. For those who desire to relocate from the city they've called \"home\" for many years, the decision can be daunting. Even cities that seem similar on the surface can lead to different lifestyles and entertainment opportunities.\n",
    "\n",
    "This project could be generalized to allow for other seniors to plan for their optimal retirement location, but for this project, I want to keep it personal to make it more realistic.  That is, I'm going to focus on my husband's and my hobbies and desires for a retirement location. We know we want to retire in Wisconsin, but we don't know where.\n",
    "\n",
    "I want to find some specifics to help us make our decision such as the following:\n",
    "\n",
    "- Fishing. There is a lot of available fishing, but we want to be able to fish for walleye. We also have a boat and need access to a public boat ramp.\n",
    "\n",
    "- State parks. We hike and camp a lot. I want to explore state parks in my retirement. \n",
    "\n",
    "Obviously, some of the information above many not be readily available. I will discover in the next part of the assignment on data if I can accomplish the above. If I cannot, I will choose to delve into other types of activities such as restaurants and shopping districts.\n"
   ]
  },
  {
   "cell_type": "code",
   "execution_count": null,
   "metadata": {},
   "outputs": [],
   "source": []
  }
 ],
 "metadata": {
  "kernelspec": {
   "display_name": "Python 3",
   "language": "python",
   "name": "python3"
  },
  "language_info": {
   "codemirror_mode": {
    "name": "ipython",
    "version": 3
   },
   "file_extension": ".py",
   "mimetype": "text/x-python",
   "name": "python",
   "nbconvert_exporter": "python",
   "pygments_lexer": "ipython3",
   "version": "3.7.0"
  }
 },
 "nbformat": 4,
 "nbformat_minor": 2
}
